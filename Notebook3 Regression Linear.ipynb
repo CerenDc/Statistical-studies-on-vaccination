{
 "cells": [
  {
   "cell_type": "markdown",
   "metadata": {},
   "source": [
    "# Notebook3 Regression Linear"
   ]
  },
  {
   "cell_type": "markdown",
   "metadata": {},
   "source": [
    "### Encoding data from the region to study linear regression from ages"
   ]
  },
  {
   "cell_type": "code",
   "execution_count": 21,
   "metadata": {},
   "outputs": [
    {
     "name": "stdout",
     "output_type": "stream",
     "text": [
      "   ID  Age             Vaccin           Dose  Région Date de Vaccination\n",
      "0   1   50             Pfizer        Booster     4.0          2023-12-16\n",
      "1   2   67            Moderna  Deuxième dose     1.0          2023-11-03\n",
      "2   3   44  Johnson & Johnson  Deuxième dose     4.0          2023-01-30\n",
      "3   4   18        AstraZeneca  Première dose     1.0          2023-04-23\n",
      "4   5   63  Johnson & Johnson  Deuxième dose     1.0          2023-10-05\n"
     ]
    }
   ],
   "source": [
    "# Importer les librairies nécessaires\n",
    "import pandas as pd\n",
    "\n",
    "# Lire le fichier CSV\n",
    "df = pd.read_csv(\"/Users/dincceren/Desktop/1 Master/Stats/Notebook/donnees_vaccination_reelles_simulees.csv\")\n",
    "\n",
    "# Dictionnaire pour mapper les régions à des codes numériques\n",
    "region_mapping = {\n",
    "    'Auvergne-Rhône-Alpes': 1,\n",
    "    'Île-de-France': 2,\n",
    "    'Nouvelle Aquitaine': 3,\n",
    "    'Occitanie': 4,\n",
    "    \"Provence-Alpes-Côte d'Azur\": 5\n",
    "}\n",
    "\n",
    "# Encoder la colonne 'Region' avec les codes numériques\n",
    "df['Région'] = df['Région'].map(region_mapping)\n",
    "\n",
    "# Afficher les premières lignes du dataset pour vérifier le résultat\n",
    "print(df.head())\n"
   ]
  },
  {
   "cell_type": "code",
   "execution_count": 22,
   "metadata": {},
   "outputs": [
    {
     "name": "stdout",
     "output_type": "stream",
     "text": [
      "      ID  Age             Vaccin           Dose  Région Date de Vaccination\n",
      "15    16   50  Johnson & Johnson  Première dose     5.0          2023-02-25\n",
      "16    17   78            Moderna        Booster     5.0          2023-08-21\n",
      "25    26   51        AstraZeneca  Deuxième dose     5.0          2023-05-30\n",
      "34    35   29             Pfizer        Booster     5.0          2023-07-11\n",
      "44    45   40            Moderna  Première dose     5.0          2023-07-02\n",
      "..   ...  ...                ...            ...     ...                 ...\n",
      "982  983   69            Moderna  Deuxième dose     5.0          2023-07-07\n",
      "984  985   18        AstraZeneca  Deuxième dose     5.0          2023-01-21\n",
      "987  988   37             Pfizer        Booster     5.0          2023-01-05\n",
      "988  989   35            Moderna        Booster     5.0          2023-10-27\n",
      "996  997   63        AstraZeneca        Booster     5.0          2023-08-07\n",
      "\n",
      "[196 rows x 6 columns]\n"
     ]
    }
   ],
   "source": [
    "# Filtrer le DataFrame pour afficher uniquement les lignes où la région est 'Provence Alpes Côte d\\'Azur'\n",
    "provence_df = df[df['Région'] == 5]  # Ici, nous filtrons par la valeur numérique 5\n",
    "\n",
    "# Afficher le résultat\n",
    "print(provence_df)"
   ]
  }
 ],
 "metadata": {
  "kernelspec": {
   "display_name": "Python 3",
   "language": "python",
   "name": "python3"
  },
  "language_info": {
   "codemirror_mode": {
    "name": "ipython",
    "version": 3
   },
   "file_extension": ".py",
   "mimetype": "text/x-python",
   "name": "python",
   "nbconvert_exporter": "python",
   "pygments_lexer": "ipython3",
   "version": "3.12.6"
  }
 },
 "nbformat": 4,
 "nbformat_minor": 2
}
