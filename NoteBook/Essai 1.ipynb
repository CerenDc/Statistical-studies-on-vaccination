{
 "cells": [
  {
   "cell_type": "markdown",
   "id": "9f140502",
   "metadata": {},
   "source": [
    "# Notebook Essai"
   ]
  },
  {
   "cell_type": "markdown",
   "id": "c0af7a10",
   "metadata": {},
   "source": [
    "data pre-processing"
   ]
  },
  {
   "cell_type": "code",
   "execution_count": 2,
   "id": "99a9c699",
   "metadata": {},
   "outputs": [],
   "source": [
    "import pandas as pd\n",
    "import matplotlib.pyplot as plt\n",
    "import numpy as np\n",
    "import seaborn as sb\n",
    "from scipy import stats\n",
    "from scipy.stats import norm"
   ]
  },
  {
   "cell_type": "code",
   "execution_count": 6,
   "id": "4598d335",
   "metadata": {},
   "outputs": [
    {
     "data": {
      "text/html": [
       "<div>\n",
       "<style scoped>\n",
       "    .dataframe tbody tr th:only-of-type {\n",
       "        vertical-align: middle;\n",
       "    }\n",
       "\n",
       "    .dataframe tbody tr th {\n",
       "        vertical-align: top;\n",
       "    }\n",
       "\n",
       "    .dataframe thead th {\n",
       "        text-align: right;\n",
       "    }\n",
       "</style>\n",
       "<table border=\"1\" class=\"dataframe\">\n",
       "  <thead>\n",
       "    <tr style=\"text-align: right;\">\n",
       "      <th></th>\n",
       "      <th>date_reference;semaine_injection;region_residence;libelle_region;departement_residence;libelle_departement;population_insee;classe_age;libelle_classe_age;type_vaccin;effectif_1_inj;effectif_termine;effectif_cumu_1_inj;effectif_cumu_termine;taux_1_inj;taux_termine;taux_cumu_1_inj;taux_cumu_termine;date;effectif_rappel;effectif_cumu_rappel;effectif_rappel_parmi_eligible;effectif_eligible_au_rappel;taux_rappel;taux_cumu_rappel;taux_cumu_rappeleli</th>\n",
       "    </tr>\n",
       "  </thead>\n",
       "  <tbody>\n",
       "    <tr>\n",
       "      <th>0</th>\n",
       "      <td>2023-01-01;2020-52;01;Guadeloupe;Tout départem...</td>\n",
       "    </tr>\n",
       "    <tr>\n",
       "      <th>1</th>\n",
       "      <td>2023-01-01;2020-52;01;Guadeloupe;Tout départem...</td>\n",
       "    </tr>\n",
       "    <tr>\n",
       "      <th>2</th>\n",
       "      <td>2023-01-01;2020-52;01;Guadeloupe;Tout départem...</td>\n",
       "    </tr>\n",
       "    <tr>\n",
       "      <th>3</th>\n",
       "      <td>2023-01-01;2020-52;01;Guadeloupe;Tout départem...</td>\n",
       "    </tr>\n",
       "    <tr>\n",
       "      <th>4</th>\n",
       "      <td>2023-01-01;2020-52;01;Guadeloupe;Tout départem...</td>\n",
       "    </tr>\n",
       "  </tbody>\n",
       "</table>\n",
       "</div>"
      ],
      "text/plain": [
       "  date_reference;semaine_injection;region_residence;libelle_region;departement_residence;libelle_departement;population_insee;classe_age;libelle_classe_age;type_vaccin;effectif_1_inj;effectif_termine;effectif_cumu_1_inj;effectif_cumu_termine;taux_1_inj;taux_termine;taux_cumu_1_inj;taux_cumu_termine;date;effectif_rappel;effectif_cumu_rappel;effectif_rappel_parmi_eligible;effectif_eligible_au_rappel;taux_rappel;taux_cumu_rappel;taux_cumu_rappeleli\n",
       "0  2023-01-01;2020-52;01;Guadeloupe;Tout départem...                                                                                                                                                                                                                                                                                                                                                                                                             \n",
       "1  2023-01-01;2020-52;01;Guadeloupe;Tout départem...                                                                                                                                                                                                                                                                                                                                                                                                             \n",
       "2  2023-01-01;2020-52;01;Guadeloupe;Tout départem...                                                                                                                                                                                                                                                                                                                                                                                                             \n",
       "3  2023-01-01;2020-52;01;Guadeloupe;Tout départem...                                                                                                                                                                                                                                                                                                                                                                                                             \n",
       "4  2023-01-01;2020-52;01;Guadeloupe;Tout départem...                                                                                                                                                                                                                                                                                                                                                                                                             "
      ]
     },
     "execution_count": 6,
     "metadata": {},
     "output_type": "execute_result"
    }
   ],
   "source": [
    "df = pd.read_csv(\"/Users/dincceren/Desktop/1 Master/Stats/Dataset.csv\")\n",
    "df.head()"
   ]
  },
  {
   "cell_type": "markdown",
   "id": "56b6edb8",
   "metadata": {},
   "source": [
    "Exploratory Data Analysis (EDA)"
   ]
  },
  {
   "cell_type": "code",
   "execution_count": 7,
   "id": "0a1b15df",
   "metadata": {},
   "outputs": [
    {
     "data": {
      "text/plain": [
       "date_reference;semaine_injection;region_residence;libelle_region;departement_residence;libelle_departement;population_insee;classe_age;libelle_classe_age;type_vaccin;effectif_1_inj;effectif_termine;effectif_cumu_1_inj;effectif_cumu_termine;taux_1_inj;taux_termine;taux_cumu_1_inj;taux_cumu_termine;date;effectif_rappel;effectif_cumu_rappel;effectif_rappel_parmi_eligible;effectif_eligible_au_rappel;taux_rappel;taux_cumu_rappel;taux_cumu_rappeleli    object\n",
       "dtype: object"
      ]
     },
     "execution_count": 7,
     "metadata": {},
     "output_type": "execute_result"
    }
   ],
   "source": [
    "df.dtypes"
   ]
  },
  {
   "cell_type": "code",
   "execution_count": 8,
   "id": "d768b3d1",
   "metadata": {},
   "outputs": [
    {
     "data": {
      "text/html": [
       "<div>\n",
       "<style scoped>\n",
       "    .dataframe tbody tr th:only-of-type {\n",
       "        vertical-align: middle;\n",
       "    }\n",
       "\n",
       "    .dataframe tbody tr th {\n",
       "        vertical-align: top;\n",
       "    }\n",
       "\n",
       "    .dataframe thead th {\n",
       "        text-align: right;\n",
       "    }\n",
       "</style>\n",
       "<table border=\"1\" class=\"dataframe\">\n",
       "  <thead>\n",
       "    <tr style=\"text-align: right;\">\n",
       "      <th></th>\n",
       "      <th>date_reference;semaine_injection;region_residence;libelle_region;departement_residence;libelle_departement;population_insee;classe_age;libelle_classe_age;type_vaccin;effectif_1_inj;effectif_termine;effectif_cumu_1_inj;effectif_cumu_termine;taux_1_inj;taux_termine;taux_cumu_1_inj;taux_cumu_termine;date;effectif_rappel;effectif_cumu_rappel;effectif_rappel_parmi_eligible;effectif_eligible_au_rappel;taux_rappel;taux_cumu_rappel;taux_cumu_rappeleli</th>\n",
       "    </tr>\n",
       "  </thead>\n",
       "  <tbody>\n",
       "    <tr>\n",
       "      <th>count</th>\n",
       "      <td>1047492</td>\n",
       "    </tr>\n",
       "    <tr>\n",
       "      <th>unique</th>\n",
       "      <td>1047492</td>\n",
       "    </tr>\n",
       "    <tr>\n",
       "      <th>top</th>\n",
       "      <td>2023-01-01;2020-52;01;Guadeloupe;Tout départem...</td>\n",
       "    </tr>\n",
       "    <tr>\n",
       "      <th>freq</th>\n",
       "      <td>1</td>\n",
       "    </tr>\n",
       "  </tbody>\n",
       "</table>\n",
       "</div>"
      ],
      "text/plain": [
       "       date_reference;semaine_injection;region_residence;libelle_region;departement_residence;libelle_departement;population_insee;classe_age;libelle_classe_age;type_vaccin;effectif_1_inj;effectif_termine;effectif_cumu_1_inj;effectif_cumu_termine;taux_1_inj;taux_termine;taux_cumu_1_inj;taux_cumu_termine;date;effectif_rappel;effectif_cumu_rappel;effectif_rappel_parmi_eligible;effectif_eligible_au_rappel;taux_rappel;taux_cumu_rappel;taux_cumu_rappeleli\n",
       "count                                             1047492                                                                                                                                                                                                                                                                                                                                                                                                             \n",
       "unique                                            1047492                                                                                                                                                                                                                                                                                                                                                                                                             \n",
       "top     2023-01-01;2020-52;01;Guadeloupe;Tout départem...                                                                                                                                                                                                                                                                                                                                                                                                             \n",
       "freq                                                    1                                                                                                                                                                                                                                                                                                                                                                                                             "
      ]
     },
     "execution_count": 8,
     "metadata": {},
     "output_type": "execute_result"
    }
   ],
   "source": [
    "df.describe()"
   ]
  },
  {
   "cell_type": "code",
   "execution_count": 9,
   "id": "e0aaaed4",
   "metadata": {},
   "outputs": [],
   "source": [
    "df.drop_duplicates(inplace=True)\n"
   ]
  },
  {
   "cell_type": "code",
   "execution_count": 10,
   "id": "184815bc",
   "metadata": {},
   "outputs": [],
   "source": [
    "missing_data = df.isnull().sum()"
   ]
  },
  {
   "cell_type": "code",
   "execution_count": 11,
   "id": "0ac08b48",
   "metadata": {},
   "outputs": [],
   "source": [
    "df.drop(columns=['effectif_1_inj', 'effectif_termine', 'effectif_cumu_1_inj', 'effectif_cumu_termine'], inplace=True, errors='ignore')"
   ]
  },
  {
   "cell_type": "code",
   "execution_count": 12,
   "id": "a3f68a9b",
   "metadata": {},
   "outputs": [
    {
     "data": {
      "text/html": [
       "<div>\n",
       "<style scoped>\n",
       "    .dataframe tbody tr th:only-of-type {\n",
       "        vertical-align: middle;\n",
       "    }\n",
       "\n",
       "    .dataframe tbody tr th {\n",
       "        vertical-align: top;\n",
       "    }\n",
       "\n",
       "    .dataframe thead th {\n",
       "        text-align: right;\n",
       "    }\n",
       "</style>\n",
       "<table border=\"1\" class=\"dataframe\">\n",
       "  <thead>\n",
       "    <tr style=\"text-align: right;\">\n",
       "      <th></th>\n",
       "      <th>date_reference;semaine_injection;region_residence;libelle_region;departement_residence;libelle_departement;population_insee;classe_age;libelle_classe_age;type_vaccin;effectif_1_inj;effectif_termine;effectif_cumu_1_inj;effectif_cumu_termine;taux_1_inj;taux_termine;taux_cumu_1_inj;taux_cumu_termine;date;effectif_rappel;effectif_cumu_rappel;effectif_rappel_parmi_eligible;effectif_eligible_au_rappel;taux_rappel;taux_cumu_rappel;taux_cumu_rappeleli</th>\n",
       "    </tr>\n",
       "  </thead>\n",
       "  <tbody>\n",
       "    <tr>\n",
       "      <th>0</th>\n",
       "      <td>2023-01-01;2020-52;01;Guadeloupe;Tout départem...</td>\n",
       "    </tr>\n",
       "    <tr>\n",
       "      <th>1</th>\n",
       "      <td>2023-01-01;2020-52;01;Guadeloupe;Tout départem...</td>\n",
       "    </tr>\n",
       "    <tr>\n",
       "      <th>2</th>\n",
       "      <td>2023-01-01;2020-52;01;Guadeloupe;Tout départem...</td>\n",
       "    </tr>\n",
       "    <tr>\n",
       "      <th>3</th>\n",
       "      <td>2023-01-01;2020-52;01;Guadeloupe;Tout départem...</td>\n",
       "    </tr>\n",
       "    <tr>\n",
       "      <th>4</th>\n",
       "      <td>2023-01-01;2020-52;01;Guadeloupe;Tout départem...</td>\n",
       "    </tr>\n",
       "  </tbody>\n",
       "</table>\n",
       "</div>"
      ],
      "text/plain": [
       "  date_reference;semaine_injection;region_residence;libelle_region;departement_residence;libelle_departement;population_insee;classe_age;libelle_classe_age;type_vaccin;effectif_1_inj;effectif_termine;effectif_cumu_1_inj;effectif_cumu_termine;taux_1_inj;taux_termine;taux_cumu_1_inj;taux_cumu_termine;date;effectif_rappel;effectif_cumu_rappel;effectif_rappel_parmi_eligible;effectif_eligible_au_rappel;taux_rappel;taux_cumu_rappel;taux_cumu_rappeleli\n",
       "0  2023-01-01;2020-52;01;Guadeloupe;Tout départem...                                                                                                                                                                                                                                                                                                                                                                                                             \n",
       "1  2023-01-01;2020-52;01;Guadeloupe;Tout départem...                                                                                                                                                                                                                                                                                                                                                                                                             \n",
       "2  2023-01-01;2020-52;01;Guadeloupe;Tout départem...                                                                                                                                                                                                                                                                                                                                                                                                             \n",
       "3  2023-01-01;2020-52;01;Guadeloupe;Tout départem...                                                                                                                                                                                                                                                                                                                                                                                                             \n",
       "4  2023-01-01;2020-52;01;Guadeloupe;Tout départem...                                                                                                                                                                                                                                                                                                                                                                                                             "
      ]
     },
     "execution_count": 12,
     "metadata": {},
     "output_type": "execute_result"
    }
   ],
   "source": [
    "df.head()"
   ]
  },
  {
   "cell_type": "code",
   "execution_count": 13,
   "id": "c1a3ea1d",
   "metadata": {},
   "outputs": [
    {
     "data": {
      "text/html": [
       "<div>\n",
       "<style scoped>\n",
       "    .dataframe tbody tr th:only-of-type {\n",
       "        vertical-align: middle;\n",
       "    }\n",
       "\n",
       "    .dataframe tbody tr th {\n",
       "        vertical-align: top;\n",
       "    }\n",
       "\n",
       "    .dataframe thead th {\n",
       "        text-align: right;\n",
       "    }\n",
       "</style>\n",
       "<table border=\"1\" class=\"dataframe\">\n",
       "  <thead>\n",
       "    <tr style=\"text-align: right;\">\n",
       "      <th></th>\n",
       "      <th>date_reference;semaine_injection;region_residence;libelle_region;departement_residence;libelle_departement;population_insee;classe_age;libelle_classe_age;type_vaccin;effectif_1_inj;effectif_termine;effectif_cumu_1_inj;effectif_cumu_termine;taux_1_inj;taux_termine;taux_cumu_1_inj;taux_cumu_termine;date;effectif_rappel;effectif_cumu_rappel;effectif_rappel_parmi_eligible;effectif_eligible_au_rappel;taux_rappel;taux_cumu_rappel;taux_cumu_rappeleli</th>\n",
       "    </tr>\n",
       "  </thead>\n",
       "  <tbody>\n",
       "    <tr>\n",
       "      <th>count</th>\n",
       "      <td>1047492</td>\n",
       "    </tr>\n",
       "    <tr>\n",
       "      <th>unique</th>\n",
       "      <td>1047492</td>\n",
       "    </tr>\n",
       "    <tr>\n",
       "      <th>top</th>\n",
       "      <td>2023-01-01;2020-52;01;Guadeloupe;Tout départem...</td>\n",
       "    </tr>\n",
       "    <tr>\n",
       "      <th>freq</th>\n",
       "      <td>1</td>\n",
       "    </tr>\n",
       "  </tbody>\n",
       "</table>\n",
       "</div>"
      ],
      "text/plain": [
       "       date_reference;semaine_injection;region_residence;libelle_region;departement_residence;libelle_departement;population_insee;classe_age;libelle_classe_age;type_vaccin;effectif_1_inj;effectif_termine;effectif_cumu_1_inj;effectif_cumu_termine;taux_1_inj;taux_termine;taux_cumu_1_inj;taux_cumu_termine;date;effectif_rappel;effectif_cumu_rappel;effectif_rappel_parmi_eligible;effectif_eligible_au_rappel;taux_rappel;taux_cumu_rappel;taux_cumu_rappeleli\n",
       "count                                             1047492                                                                                                                                                                                                                                                                                                                                                                                                             \n",
       "unique                                            1047492                                                                                                                                                                                                                                                                                                                                                                                                             \n",
       "top     2023-01-01;2020-52;01;Guadeloupe;Tout départem...                                                                                                                                                                                                                                                                                                                                                                                                             \n",
       "freq                                                    1                                                                                                                                                                                                                                                                                                                                                                                                             "
      ]
     },
     "execution_count": 13,
     "metadata": {},
     "output_type": "execute_result"
    }
   ],
   "source": [
    "df.describe()"
   ]
  },
  {
   "cell_type": "markdown",
   "id": "9ea38eab",
   "metadata": {},
   "source": [
    "Loi normale"
   ]
  },
  {
   "cell_type": "code",
   "execution_count": 20,
   "id": "e065f96a",
   "metadata": {},
   "outputs": [
    {
     "data": {
      "text/plain": [
       "'https://www.saagie.com/fr/blog/loi-normale-python-ou-loi-gauss/'"
      ]
     },
     "execution_count": 20,
     "metadata": {},
     "output_type": "execute_result"
    }
   ],
   "source": [
    "data = np.arange(1,10,0.01)\n",
    "\n",
    "pdf = norm.pdf(data , loc = 5.3 , scale = 1)\n",
    "\n",
    "\"https://www.saagie.com/fr/blog/loi-normale-python-ou-loi-gauss/\""
   ]
  },
  {
   "cell_type": "code",
   "execution_count": 28,
   "id": "0b337085",
   "metadata": {},
   "outputs": [
    {
     "ename": "TypeError",
     "evalue": "lineplot() takes from 0 to 1 positional arguments but 2 were given",
     "output_type": "error",
     "traceback": [
      "\u001b[0;31m---------------------------------------------------------------------------\u001b[0m",
      "\u001b[0;31mTypeError\u001b[0m                                 Traceback (most recent call last)",
      "Cell \u001b[0;32mIn[28], line 3\u001b[0m\n\u001b[1;32m      1\u001b[0m sb\u001b[38;5;241m.\u001b[39mset_style (\u001b[38;5;124m\"\u001b[39m\u001b[38;5;124mwhitegrid\u001b[39m\u001b[38;5;124m\"\u001b[39m)\n\u001b[0;32m----> 3\u001b[0m \u001b[43msb\u001b[49m\u001b[38;5;241;43m.\u001b[39;49m\u001b[43mlineplot\u001b[49m\u001b[43m(\u001b[49m\u001b[43mdata\u001b[49m\u001b[43m,\u001b[49m\u001b[43m \u001b[49m\u001b[43mpdf\u001b[49m\u001b[43m \u001b[49m\u001b[43m,\u001b[49m\u001b[43m \u001b[49m\u001b[43mcolor\u001b[49m\u001b[43m \u001b[49m\u001b[38;5;241;43m=\u001b[39;49m\u001b[43m \u001b[49m\u001b[38;5;124;43m\"\u001b[39;49m\u001b[38;5;124;43mblack\u001b[39;49m\u001b[38;5;124;43m\"\u001b[39;49m\u001b[43m)\u001b[49m\n\u001b[1;32m      5\u001b[0m plt\u001b[38;5;241m.\u001b[39mxlabel(\u001b[38;5;124m\"\u001b[39m\u001b[38;5;124mHeights\u001b[39m\u001b[38;5;124m\"\u001b[39m)\n\u001b[1;32m      7\u001b[0m plt\u001b[38;5;241m.\u001b[39mylabel(\u001b[38;5;124m\"\u001b[39m\u001b[38;5;124mProbability Density\u001b[39m\u001b[38;5;124m\"\u001b[39m)\n",
      "\u001b[0;31mTypeError\u001b[0m: lineplot() takes from 0 to 1 positional arguments but 2 were given"
     ]
    }
   ],
   "source": [
    "sb.set_style (\"whitegrid\")\n",
    "\n",
    "sb.lineplot(data, pdf , color = \"black\")\n",
    "\n",
    "plt.xlabel(\"Heights\")\n",
    "\n",
    "plt.ylabel(\"Probability Density\")"
   ]
  },
  {
   "cell_type": "code",
   "execution_count": 22,
   "id": "798efe81",
   "metadata": {},
   "outputs": [
    {
     "name": "stdout",
     "output_type": "stream",
     "text": [
      "Average: 5.495000000000004, Standard Deviation: 2.5980746076020758\n"
     ]
    }
   ],
   "source": [
    "mean = np.mean(data)  \n",
    "std_dev = np.std(data)  \n",
    "\n",
    "print(f'Average: {mean}, Standard Deviation: {std_dev}')"
   ]
  },
  {
   "cell_type": "code",
   "execution_count": 23,
   "id": "21a6ec26",
   "metadata": {},
   "outputs": [
    {
     "ename": "AttributeError",
     "evalue": "'numpy.ndarray' object has no attribute 'histplot'",
     "output_type": "error",
     "traceback": [
      "\u001b[0;31m---------------------------------------------------------------------------\u001b[0m",
      "\u001b[0;31mAttributeError\u001b[0m                            Traceback (most recent call last)",
      "Cell \u001b[0;32mIn[23], line 5\u001b[0m\n\u001b[1;32m      2\u001b[0m pdf \u001b[38;5;241m=\u001b[39m norm\u001b[38;5;241m.\u001b[39mpdf(x, loc\u001b[38;5;241m=\u001b[39mmean, scale\u001b[38;5;241m=\u001b[39mstd_dev)\n\u001b[1;32m      4\u001b[0m \u001b[38;5;66;03m# Histogramme de tes données\u001b[39;00m\n\u001b[0;32m----> 5\u001b[0m \u001b[43mdata\u001b[49m\u001b[38;5;241;43m.\u001b[39;49m\u001b[43mhistplot\u001b[49m(data, kde\u001b[38;5;241m=\u001b[39m\u001b[38;5;28;01mFalse\u001b[39;00m, stat\u001b[38;5;241m=\u001b[39m\u001b[38;5;124m'\u001b[39m\u001b[38;5;124mdensity\u001b[39m\u001b[38;5;124m'\u001b[39m, bins\u001b[38;5;241m=\u001b[39m\u001b[38;5;241m30\u001b[39m, color\u001b[38;5;241m=\u001b[39m\u001b[38;5;124m'\u001b[39m\u001b[38;5;124mblue\u001b[39m\u001b[38;5;124m'\u001b[39m, label\u001b[38;5;241m=\u001b[39m\u001b[38;5;124m'\u001b[39m\u001b[38;5;124mDonnées\u001b[39m\u001b[38;5;124m'\u001b[39m)\n\u001b[1;32m      7\u001b[0m \u001b[38;5;66;03m# Superposition de la loi normale théorique\u001b[39;00m\n\u001b[1;32m      8\u001b[0m plt\u001b[38;5;241m.\u001b[39mplot(x, pdf, \u001b[38;5;124m'\u001b[39m\u001b[38;5;124mr\u001b[39m\u001b[38;5;124m'\u001b[39m, label\u001b[38;5;241m=\u001b[39m\u001b[38;5;124m'\u001b[39m\u001b[38;5;124mLoi Normale Théorique\u001b[39m\u001b[38;5;124m'\u001b[39m, linewidth\u001b[38;5;241m=\u001b[39m\u001b[38;5;241m2\u001b[39m)\n",
      "\u001b[0;31mAttributeError\u001b[0m: 'numpy.ndarray' object has no attribute 'histplot'"
     ]
    }
   ],
   "source": [
    "x = np.linspace(min(data), max(data), 100)\n",
    "pdf = norm.pdf(x, loc=mean, scale=std_dev)\n",
    "\n",
    "# Histogramme de tes données\n",
    "data.histplot(data, kde=False, stat='density', bins=30, color='blue', label='Données')\n",
    "\n",
    "# Superposition de la loi normale théorique\n",
    "plt.plot(x, pdf, 'r', label='Loi Normale Théorique', linewidth=2)\n",
    "\n",
    "plt.xlabel('Valeurs')\n",
    "plt.ylabel('Densité')\n",
    "plt.legend()\n",
    "\n",
    "plt.show()"
   ]
  },
  {
   "cell_type": "code",
   "execution_count": 24,
   "id": "295e4eeb",
   "metadata": {},
   "outputs": [
    {
     "name": "stdout",
     "output_type": "stream",
     "text": [
      "Statistique du test: 0.9547977328526684, P-value: 5.113117566329334e-16\n",
      "Les données ne suivent pas une distribution normale (on rejette l'hypothèse H0).\n"
     ]
    }
   ],
   "source": [
    "from scipy.stats import shapiro # Test de Shapiro Wilk (petit échantillon)\n",
    "\n",
    "stat, p_value = shapiro(data)\n",
    "\n",
    "print(f'Statistique du test: {stat}, P-value: {p_value}')\n",
    "\n",
    "alpha = 0.05  # Niveau de signification\n",
    "if p_value > alpha:\n",
    "    print(\"Les données suivent une distribution normale (on ne rejette pas l'hypothèse H0).\")\n",
    "else:\n",
    "    print(\"Les données ne suivent pas une distribution normale (on rejette l'hypothèse H0).\")\n"
   ]
  },
  {
   "cell_type": "code",
   "execution_count": 25,
   "id": "132716c0",
   "metadata": {},
   "outputs": [
    {
     "name": "stdout",
     "output_type": "stream",
     "text": [
      "Statistique du test KS: 0.05776201639686429, P-value: 0.004729278229049428\n",
      "Les données ne suivent pas une distribution normale.\n"
     ]
    }
   ],
   "source": [
    "from scipy.stats import kstest # Test de Kolmogorov-Smirnov\n",
    "\n",
    "# Comparer tes données à une distribution normale\n",
    "stat, p_value = kstest(data, 'norm', args=(mean, std_dev))\n",
    "\n",
    "print(f'Statistique du test KS: {stat}, P-value: {p_value}')\n",
    "\n",
    "if p_value > 0.05:\n",
    "    print(\"Les données suivent une distribution normale.\")\n",
    "else:\n",
    "    print(\"Les données ne suivent pas une distribution normale.\")\n"
   ]
  },
  {
   "cell_type": "code",
   "execution_count": 27,
   "id": "29fa7054",
   "metadata": {},
   "outputs": [
    {
     "data": {
      "image/png": "[encoded data removed]",
      "text/plain": [
       "<Figure size 640x480 with 1 Axes>"
      ]
     },
     "metadata": {},
     "output_type": "display_data"
    }
   ],
   "source": [
    "import scipy.stats as stats # QQ Plot (Quantile Quantile Plot)\n",
    "\n",
    "stats.probplot(data, dist=\"norm\", plot=plt)\n",
    "plt.title('QQ Plot')\n",
    "plt.show()"
   ]
  }
 ],
 "metadata": {
  "kernelspec": {
   "display_name": "Python 3",
   "language": "python",
   "name": "python3"
  },
  "language_info": {
   "codemirror_mode": {
    "name": "ipython",
    "version": 3
   },
   "file_extension": ".py",
   "mimetype": "text/x-python",
   "name": "python",
   "nbconvert_exporter": "python",
   "pygments_lexer": "ipython3",
   "version": "3.12.6"
  }
 },
 "nbformat": 4,
 "nbformat_minor": 5
}
